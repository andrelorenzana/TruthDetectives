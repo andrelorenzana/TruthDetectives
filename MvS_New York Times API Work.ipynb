{
 "cells": [
  {
   "cell_type": "code",
   "execution_count": null,
   "metadata": {},
   "outputs": [],
   "source": [
    "import numpy as np\n",
    "import pandas as pd\n",
    "import matplotlib.pyplot as plt\n",
    "import requests\n",
    "from pprint import pprint\n",
    "pd.options.display.float_format = '{0:,.2f}'.format\n",
    "\n"
   ]
  },
  {
   "cell_type": "code",
   "execution_count": null,
   "metadata": {},
   "outputs": [],
   "source": [
    "semantic_base_url = \"http://api.nytimes.com/svc/semantic/v2/concept/name/\"\n",
    "#http://api.nytimes.com/svc/semantic/v2/concept/name/<concept_type>/<specific_concept_name>.json(?optional_parameters)&api-key=your-API-key\n",
    "concept_type = \"nytd_des\"\n",
    "specific_concept_name = \"Fake News\"\n",
    "semantic_key = \"L0YLNQoIJ6PNembr8qF3D4NiuK30BCHY\"\n",
    "article_key = \"SJOH17JUNSQbE7a5Kam5jckSbibo9qua\""
   ]
  },
  {
   "cell_type": "code",
   "execution_count": null,
   "metadata": {},
   "outputs": [],
   "source": [
    "#Reminder from other project\n",
    "#national_agency_base = \"https://api.usa.gov/crime/fbi/sapi/api/participation/national?api_key={myapi_key}\"\n",
    "#violent_state_base = \"https://api.usa.gov/crime/fbi/sapi/api/data/nibrs/violent-crime/offense/states/\"\n",
    "#api_key_url = \"/count?api_key=\"\n",
    "#myapi_key = \"FaiahkB1PpyTF7e8qEp6JZ3TnOmokQ2sW2OTU099\"\n",
    "#states = [\"AL\", \"AR\", \"CA\", \"CO\", \"DC\", \"DE\", \"FL\", \"HI\", \"ID\",\n",
    "          \"IL\", \"IN\", \"KS\", \"KY\", \"LA\", \"ME\", \"MD\", \"MA\", \"MI\", \"MS\", \"MO\",\n",
    "          \"MT\", \"NE\", \"NV\", \"NH\", \"NJ\", \"NM\", \"NC\", \"ND\", \"OH\", \"OK\", \"OR\", \"PA\",\n",
    "          \"SC\", \"SD\", \"TN\", \"TX\", \"UT\", \"VT\", \"WA\", \"WV\", \"WI\", \"WY\"]\n",
    "#state_list = []\n",
    "#year_list = []\n",
    "#offense_name_list = []\n",
    "#offense_count_list = []\n",
    "\n",
    "#for state in states:\n",
    "#    violent_state_url = violent_state_base + state + api_key_url + myapi_key \n",
    "#    response = requests.get(violent_state_url).json()\n",
    "\n",
    "#    if int(response['pagination']['count'])!=0:\n",
    "#        for i in range(len(response['results'])):\n",
    "#            #print()\n",
    "#            if response['results'][i]['data_year'] in range(1999,2017): \n",
    "#                state_list.append(state)\n",
    "#                year_list.append(response['results'][i]['data_year'])\n",
    "#                offense_name_list.append(response['results'][i]['offense_name'])\n",
    "#                offense_count_list.append(response['results'][i]['offense_count'])\n",
    "        #print(state)\n",
    "        #pprint(response)\n"
   ]
  }
 ],
 "metadata": {
  "kernelspec": {
   "display_name": "Python 3",
   "language": "python",
   "name": "python3"
  },
  "language_info": {
   "codemirror_mode": {
    "name": "ipython",
    "version": 3
   },
   "file_extension": ".py",
   "mimetype": "text/x-python",
   "name": "python",
   "nbconvert_exporter": "python",
   "pygments_lexer": "ipython3",
   "version": "3.6.5"
  }
 },
 "nbformat": 4,
 "nbformat_minor": 2
}
