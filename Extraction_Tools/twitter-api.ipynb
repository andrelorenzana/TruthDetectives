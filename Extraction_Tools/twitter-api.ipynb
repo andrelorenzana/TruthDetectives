{
 "cells": [
  {
   "cell_type": "markdown",
   "metadata": {},
   "source": [
    "## TruthDetectives - Twitter API"
   ]
  },
  {
   "cell_type": "markdown",
   "metadata": {},
   "source": [
    "### This notebook reads tweets from various twitter api calls to collect real, fake, and satirical news"
   ]
  },
  {
   "cell_type": "code",
   "execution_count": 1,
   "metadata": {},
   "outputs": [],
   "source": [
    "import requests\n",
    "import tweepy\n",
    "import json\n",
    "import pandas as pd\n",
    "from pprint import pprint\n",
    "import base64\n",
    "import numpy as np\n",
    "from IPython.display import clear_output"
   ]
  },
  {
   "cell_type": "code",
   "execution_count": 2,
   "metadata": {},
   "outputs": [],
   "source": [
    "# twitter keys\n",
    "consumer_token = 'kwOIpRFTfoQSB6nBS7UYywnNG'\n",
    "consumer_secret = 'BJXw7k0BwWAxJulVruFzz4tnYnLkHuAICHLfjSqfE1lqQUHEtB'\n",
    "access_token = '1043151261976092673-ZR0P31WWImv6ne0RT21Ip03pqpw3vG'\n",
    "access_token_secret = 'lCx58brHD7CHqW5DQj1FR0DIEjokEhFvunIUfjErSVENr'"
   ]
  },
  {
   "cell_type": "code",
   "execution_count": 3,
   "metadata": {},
   "outputs": [],
   "source": [
    "auth = tweepy.OAuthHandler(consumer_token, consumer_secret)"
   ]
  },
  {
   "cell_type": "code",
   "execution_count": 4,
   "metadata": {},
   "outputs": [
    {
     "data": {
      "text/plain": [
       "'https://api.twitter.com/oauth/authorize?oauth_token=rPRwzQAAAAAA9UXfAAABaGbQ0pw'"
      ]
     },
     "execution_count": 4,
     "metadata": {},
     "output_type": "execute_result"
    }
   ],
   "source": [
    "redirect_url = auth.get_authorization_url()\n",
    "redirect_url"
   ]
  },
  {
   "cell_type": "code",
   "execution_count": 6,
   "metadata": {},
   "outputs": [],
   "source": [
    "# get pin from link\n",
    "pin = '5579854'"
   ]
  },
  {
   "cell_type": "code",
   "execution_count": 7,
   "metadata": {},
   "outputs": [],
   "source": [
    "token = auth.get_access_token(verifier=pin)"
   ]
  },
  {
   "cell_type": "code",
   "execution_count": 8,
   "metadata": {},
   "outputs": [],
   "source": [
    "api = tweepy.API(auth)\n",
    "# woot authenticated"
   ]
  },
  {
   "cell_type": "code",
   "execution_count": 12,
   "metadata": {},
   "outputs": [],
   "source": [
    "# api has max of 200 per call\n",
    "the_onion = api.user_timeline('TheOnion', count=200)\n",
    "max_id = the_onion[-1].id"
   ]
  },
  {
   "cell_type": "code",
   "execution_count": 13,
   "metadata": {},
   "outputs": [],
   "source": [
    "# loop 100 times getting 200 tweets each\n",
    "for i in range(100):\n",
    "    the_onion = the_onion + api.user_timeline('TheOnion', count=200, max_id=max_id) \n",
    "    max_id = the_onion[-1].id"
   ]
  },
  {
   "cell_type": "code",
   "execution_count": 14,
   "metadata": {},
   "outputs": [
    {
     "data": {
      "text/plain": [
       "3325"
      ]
     },
     "execution_count": 14,
     "metadata": {},
     "output_type": "execute_result"
    }
   ],
   "source": [
    "len(the_onion)"
   ]
  },
  {
   "cell_type": "code",
   "execution_count": 15,
   "metadata": {},
   "outputs": [],
   "source": [
    "title=[]\n",
    "for i in range(len(the_onion)):\n",
    "    title.append(the_onion[i].text)"
   ]
  },
  {
   "cell_type": "code",
   "execution_count": 16,
   "metadata": {},
   "outputs": [],
   "source": [
    "title = list(set(title)) #making sure there are no duplicates"
   ]
  },
  {
   "cell_type": "code",
   "execution_count": 17,
   "metadata": {},
   "outputs": [
    {
     "data": {
      "text/plain": [
       "3325"
      ]
     },
     "execution_count": 17,
     "metadata": {},
     "output_type": "execute_result"
    }
   ],
   "source": [
    "len(the_onion) # there are none"
   ]
  },
  {
   "cell_type": "code",
   "execution_count": 18,
   "metadata": {},
   "outputs": [],
   "source": [
    "onion_df = pd.DataFrame(columns=['Title', 'Text', 'Author', 'Source', 'Label'])"
   ]
  },
  {
   "cell_type": "code",
   "execution_count": 19,
   "metadata": {},
   "outputs": [],
   "source": [
    "onion_df.Title = title"
   ]
  },
  {
   "cell_type": "code",
   "execution_count": 20,
   "metadata": {},
   "outputs": [],
   "source": [
    "onion_df.Label = 'Satirical'\n",
    "onion_df.Author = 'The Onion'\n",
    "onion_df.Source = 'Twitter'\n",
    "onion_df.Text = np.nan"
   ]
  },
  {
   "cell_type": "code",
   "execution_count": 21,
   "metadata": {},
   "outputs": [
    {
     "data": {
      "text/html": [
       "<div>\n",
       "<style scoped>\n",
       "    .dataframe tbody tr th:only-of-type {\n",
       "        vertical-align: middle;\n",
       "    }\n",
       "\n",
       "    .dataframe tbody tr th {\n",
       "        vertical-align: top;\n",
       "    }\n",
       "\n",
       "    .dataframe thead th {\n",
       "        text-align: right;\n",
       "    }\n",
       "</style>\n",
       "<table border=\"1\" class=\"dataframe\">\n",
       "  <thead>\n",
       "    <tr style=\"text-align: right;\">\n",
       "      <th></th>\n",
       "      <th>Title</th>\n",
       "      <th>Text</th>\n",
       "      <th>Author</th>\n",
       "      <th>Source</th>\n",
       "      <th>Label</th>\n",
       "    </tr>\n",
       "  </thead>\n",
       "  <tbody>\n",
       "    <tr>\n",
       "      <th>0</th>\n",
       "      <td>Breaking: Adam Got A PS4 For Christmas https:/...</td>\n",
       "      <td>NaN</td>\n",
       "      <td>The Onion</td>\n",
       "      <td>Twitter</td>\n",
       "      <td>Satirical</td>\n",
       "    </tr>\n",
       "    <tr>\n",
       "      <th>1</th>\n",
       "      <td>For more world-renowned reportage, visit https...</td>\n",
       "      <td>NaN</td>\n",
       "      <td>The Onion</td>\n",
       "      <td>Twitter</td>\n",
       "      <td>Satirical</td>\n",
       "    </tr>\n",
       "    <tr>\n",
       "      <th>2</th>\n",
       "      <td>\"How do you shop for someone like that? I mean...</td>\n",
       "      <td>NaN</td>\n",
       "      <td>The Onion</td>\n",
       "      <td>Twitter</td>\n",
       "      <td>Satirical</td>\n",
       "    </tr>\n",
       "    <tr>\n",
       "      <th>3</th>\n",
       "      <td>For more exemplary journalism, visit https://t...</td>\n",
       "      <td>NaN</td>\n",
       "      <td>The Onion</td>\n",
       "      <td>Twitter</td>\n",
       "      <td>Satirical</td>\n",
       "    </tr>\n",
       "    <tr>\n",
       "      <th>4</th>\n",
       "      <td>Report: Distracted Driving Results In More Tha...</td>\n",
       "      <td>NaN</td>\n",
       "      <td>The Onion</td>\n",
       "      <td>Twitter</td>\n",
       "      <td>Satirical</td>\n",
       "    </tr>\n",
       "  </tbody>\n",
       "</table>\n",
       "</div>"
      ],
      "text/plain": [
       "                                               Title  Text     Author  \\\n",
       "0  Breaking: Adam Got A PS4 For Christmas https:/...   NaN  The Onion   \n",
       "1  For more world-renowned reportage, visit https...   NaN  The Onion   \n",
       "2  \"How do you shop for someone like that? I mean...   NaN  The Onion   \n",
       "3  For more exemplary journalism, visit https://t...   NaN  The Onion   \n",
       "4  Report: Distracted Driving Results In More Tha...   NaN  The Onion   \n",
       "\n",
       "    Source      Label  \n",
       "0  Twitter  Satirical  \n",
       "1  Twitter  Satirical  \n",
       "2  Twitter  Satirical  \n",
       "3  Twitter  Satirical  \n",
       "4  Twitter  Satirical  "
      ]
     },
     "execution_count": 21,
     "metadata": {},
     "output_type": "execute_result"
    }
   ],
   "source": [
    "onion_df.to_csv('twitter.csv', index=False)\n",
    "onion_df.head()"
   ]
  },
  {
   "cell_type": "code",
   "execution_count": 22,
   "metadata": {},
   "outputs": [],
   "source": [
    "# BBC World News\n",
    "bbc = api.user_timeline('BBCWorld', count=200)\n",
    "max_id = bbc[-1].id\n",
    "for i in range(100):\n",
    "    bbc = bbc + api.user_timeline('BBCWorld', count=200, max_id=max_id) \n",
    "    max_id = bbc[-1].id"
   ]
  },
  {
   "cell_type": "code",
   "execution_count": 23,
   "metadata": {},
   "outputs": [],
   "source": [
    "title=[]\n",
    "for i in range(len(bbc)):\n",
    "    title.append(bbc[i].text)"
   ]
  },
  {
   "cell_type": "code",
   "execution_count": 24,
   "metadata": {},
   "outputs": [
    {
     "data": {
      "text/plain": [
       "3304"
      ]
     },
     "execution_count": 24,
     "metadata": {},
     "output_type": "execute_result"
    }
   ],
   "source": [
    "len(title)"
   ]
  },
  {
   "cell_type": "code",
   "execution_count": 25,
   "metadata": {},
   "outputs": [
    {
     "data": {
      "text/plain": [
       "3250"
      ]
     },
     "execution_count": 25,
     "metadata": {},
     "output_type": "execute_result"
    }
   ],
   "source": [
    "title = list(set(title)) #making sure there are no duplicates\n",
    "len(title) # about 30 duplicates dropped"
   ]
  },
  {
   "cell_type": "code",
   "execution_count": 26,
   "metadata": {},
   "outputs": [],
   "source": [
    "bbc_df = pd.DataFrame(columns=['Title', 'Text', 'Author', 'Source', 'Label'])\n",
    "bbc_df.Title = title\n",
    "bbc_df.Label = 'Reliable'\n",
    "bbc_df.Author = 'BBC World'\n",
    "bbc_df.Source = 'Twitter'\n",
    "bbc_df.Text = np.nan"
   ]
  },
  {
   "cell_type": "code",
   "execution_count": 72,
   "metadata": {},
   "outputs": [],
   "source": [
    "df = pd.DataFrame()"
   ]
  },
  {
   "cell_type": "code",
   "execution_count": 73,
   "metadata": {},
   "outputs": [
    {
     "data": {
      "text/html": [
       "<div>\n",
       "<style scoped>\n",
       "    .dataframe tbody tr th:only-of-type {\n",
       "        vertical-align: middle;\n",
       "    }\n",
       "\n",
       "    .dataframe tbody tr th {\n",
       "        vertical-align: top;\n",
       "    }\n",
       "\n",
       "    .dataframe thead th {\n",
       "        text-align: right;\n",
       "    }\n",
       "</style>\n",
       "<table border=\"1\" class=\"dataframe\">\n",
       "  <thead>\n",
       "    <tr style=\"text-align: right;\">\n",
       "      <th></th>\n",
       "      <th>Title</th>\n",
       "      <th>Text</th>\n",
       "      <th>Author</th>\n",
       "      <th>Source</th>\n",
       "      <th>Label</th>\n",
       "    </tr>\n",
       "  </thead>\n",
       "  <tbody>\n",
       "    <tr>\n",
       "      <th>3245</th>\n",
       "      <td>Liberia electricity crisis: 'About 60% of powe...</td>\n",
       "      <td>NaN</td>\n",
       "      <td>BBC World</td>\n",
       "      <td>Twitter</td>\n",
       "      <td>Reliable</td>\n",
       "    </tr>\n",
       "    <tr>\n",
       "      <th>3246</th>\n",
       "      <td>Why smartphones are skewing young Indians’ ide...</td>\n",
       "      <td>NaN</td>\n",
       "      <td>BBC World</td>\n",
       "      <td>Twitter</td>\n",
       "      <td>Reliable</td>\n",
       "    </tr>\n",
       "    <tr>\n",
       "      <th>3247</th>\n",
       "      <td>After the caliphate: What next for IS? https:/...</td>\n",
       "      <td>NaN</td>\n",
       "      <td>BBC World</td>\n",
       "      <td>Twitter</td>\n",
       "      <td>Reliable</td>\n",
       "    </tr>\n",
       "    <tr>\n",
       "      <th>3248</th>\n",
       "      <td>Trump: 'I never directed Michael Cohen to brea...</td>\n",
       "      <td>NaN</td>\n",
       "      <td>BBC World</td>\n",
       "      <td>Twitter</td>\n",
       "      <td>Reliable</td>\n",
       "    </tr>\n",
       "    <tr>\n",
       "      <th>3249</th>\n",
       "      <td>Putin: West disrespecting voters' choices of T...</td>\n",
       "      <td>NaN</td>\n",
       "      <td>BBC World</td>\n",
       "      <td>Twitter</td>\n",
       "      <td>Reliable</td>\n",
       "    </tr>\n",
       "  </tbody>\n",
       "</table>\n",
       "</div>"
      ],
      "text/plain": [
       "                                                  Title  Text     Author  \\\n",
       "3245  Liberia electricity crisis: 'About 60% of powe...   NaN  BBC World   \n",
       "3246  Why smartphones are skewing young Indians’ ide...   NaN  BBC World   \n",
       "3247  After the caliphate: What next for IS? https:/...   NaN  BBC World   \n",
       "3248  Trump: 'I never directed Michael Cohen to brea...   NaN  BBC World   \n",
       "3249  Putin: West disrespecting voters' choices of T...   NaN  BBC World   \n",
       "\n",
       "       Source     Label  \n",
       "3245  Twitter  Reliable  \n",
       "3246  Twitter  Reliable  \n",
       "3247  Twitter  Reliable  \n",
       "3248  Twitter  Reliable  \n",
       "3249  Twitter  Reliable  "
      ]
     },
     "execution_count": 73,
     "metadata": {},
     "output_type": "execute_result"
    }
   ],
   "source": [
    "df = onion_df.append(bbc_df)\n",
    "df.tail()"
   ]
  },
  {
   "cell_type": "code",
   "execution_count": 28,
   "metadata": {},
   "outputs": [],
   "source": [
    "df.to_csv('twitter.csv', index=False)"
   ]
  },
  {
   "cell_type": "code",
   "execution_count": 29,
   "metadata": {},
   "outputs": [],
   "source": [
    "# SatireNewsNet\n",
    "snn = api.user_timeline('SatireNewsNet', count=200)\n",
    "max_id = snn[-1].id\n",
    "for i in range(100):\n",
    "    snn = snn + api.user_timeline('SatireNewsNet', count=200, max_id=max_id) \n",
    "    max_id = snn[-1].id"
   ]
  },
  {
   "cell_type": "code",
   "execution_count": 30,
   "metadata": {},
   "outputs": [],
   "source": [
    "title=[]\n",
    "for i in range(len(snn)):\n",
    "    title.append(snn[i].text)"
   ]
  },
  {
   "cell_type": "code",
   "execution_count": 31,
   "metadata": {},
   "outputs": [
    {
     "data": {
      "text/plain": [
       "159"
      ]
     },
     "execution_count": 31,
     "metadata": {},
     "output_type": "execute_result"
    }
   ],
   "source": [
    "len(title)"
   ]
  },
  {
   "cell_type": "code",
   "execution_count": 32,
   "metadata": {},
   "outputs": [
    {
     "data": {
      "text/plain": [
       "58"
      ]
     },
     "execution_count": 32,
     "metadata": {},
     "output_type": "execute_result"
    }
   ],
   "source": [
    "title = list(set(title)) #making sure there are no duplicates\n",
    "len(title) # about 30 duplicates dropped"
   ]
  },
  {
   "cell_type": "code",
   "execution_count": 33,
   "metadata": {},
   "outputs": [],
   "source": [
    "snn_df = pd.DataFrame(columns=['Title', 'Text', 'Author', 'Source', 'Label'])\n",
    "snn_df.Title = title\n",
    "snn_df.Label = 'Satirical'\n",
    "snn_df.Author = 'SatireNewsNet'\n",
    "snn_df.Source = 'Twitter'\n",
    "snn_df.Text = np.nan"
   ]
  },
  {
   "cell_type": "code",
   "execution_count": 74,
   "metadata": {},
   "outputs": [
    {
     "data": {
      "text/html": [
       "<div>\n",
       "<style scoped>\n",
       "    .dataframe tbody tr th:only-of-type {\n",
       "        vertical-align: middle;\n",
       "    }\n",
       "\n",
       "    .dataframe tbody tr th {\n",
       "        vertical-align: top;\n",
       "    }\n",
       "\n",
       "    .dataframe thead th {\n",
       "        text-align: right;\n",
       "    }\n",
       "</style>\n",
       "<table border=\"1\" class=\"dataframe\">\n",
       "  <thead>\n",
       "    <tr style=\"text-align: right;\">\n",
       "      <th></th>\n",
       "      <th>index</th>\n",
       "      <th>Title</th>\n",
       "      <th>Text</th>\n",
       "      <th>Author</th>\n",
       "      <th>Source</th>\n",
       "      <th>Label</th>\n",
       "    </tr>\n",
       "  </thead>\n",
       "  <tbody>\n",
       "    <tr>\n",
       "      <th>6526</th>\n",
       "      <td>53</td>\n",
       "      <td>Lonely George W. Bush Still Holds Hands with S...</td>\n",
       "      <td>NaN</td>\n",
       "      <td>SatireNewsNet</td>\n",
       "      <td>Twitter</td>\n",
       "      <td>Satirical</td>\n",
       "    </tr>\n",
       "    <tr>\n",
       "      <th>6527</th>\n",
       "      <td>54</td>\n",
       "      <td>@Acosta Jim - you are proving that a wall work...</td>\n",
       "      <td>NaN</td>\n",
       "      <td>SatireNewsNet</td>\n",
       "      <td>Twitter</td>\n",
       "      <td>Satirical</td>\n",
       "    </tr>\n",
       "    <tr>\n",
       "      <th>6528</th>\n",
       "      <td>55</td>\n",
       "      <td>@jordanbpeterson Big fan Jordan. Everyone plea...</td>\n",
       "      <td>NaN</td>\n",
       "      <td>SatireNewsNet</td>\n",
       "      <td>Twitter</td>\n",
       "      <td>Satirical</td>\n",
       "    </tr>\n",
       "    <tr>\n",
       "      <th>6529</th>\n",
       "      <td>56</td>\n",
       "      <td>@PalmerReport @realDonaldTrump He has turned y...</td>\n",
       "      <td>NaN</td>\n",
       "      <td>SatireNewsNet</td>\n",
       "      <td>Twitter</td>\n",
       "      <td>Satirical</td>\n",
       "    </tr>\n",
       "    <tr>\n",
       "      <th>6530</th>\n",
       "      <td>57</td>\n",
       "      <td>@ezralevant @Gillette any thoughts on this tox...</td>\n",
       "      <td>NaN</td>\n",
       "      <td>SatireNewsNet</td>\n",
       "      <td>Twitter</td>\n",
       "      <td>Satirical</td>\n",
       "    </tr>\n",
       "  </tbody>\n",
       "</table>\n",
       "</div>"
      ],
      "text/plain": [
       "      index                                              Title  Text  \\\n",
       "6526     53  Lonely George W. Bush Still Holds Hands with S...   NaN   \n",
       "6527     54  @Acosta Jim - you are proving that a wall work...   NaN   \n",
       "6528     55  @jordanbpeterson Big fan Jordan. Everyone plea...   NaN   \n",
       "6529     56  @PalmerReport @realDonaldTrump He has turned y...   NaN   \n",
       "6530     57  @ezralevant @Gillette any thoughts on this tox...   NaN   \n",
       "\n",
       "             Author   Source      Label  \n",
       "6526  SatireNewsNet  Twitter  Satirical  \n",
       "6527  SatireNewsNet  Twitter  Satirical  \n",
       "6528  SatireNewsNet  Twitter  Satirical  \n",
       "6529  SatireNewsNet  Twitter  Satirical  \n",
       "6530  SatireNewsNet  Twitter  Satirical  "
      ]
     },
     "execution_count": 74,
     "metadata": {},
     "output_type": "execute_result"
    }
   ],
   "source": [
    "df = df.append(snn_df)\n",
    "df.reset_index(inplace=True)\n",
    "df.tail()"
   ]
  },
  {
   "cell_type": "code",
   "execution_count": 75,
   "metadata": {},
   "outputs": [
    {
     "data": {
      "text/plain": [
       "(6531, 6)"
      ]
     },
     "execution_count": 75,
     "metadata": {},
     "output_type": "execute_result"
    }
   ],
   "source": [
    "df.drop_duplicates()\n",
    "df.shape"
   ]
  },
  {
   "cell_type": "code",
   "execution_count": 41,
   "metadata": {},
   "outputs": [],
   "source": [
    "# DPRK_News\n",
    "dprk = api.user_timeline('DPRK_News', count=200)\n",
    "max_id = dprk[-1].id\n",
    "for i in range(100):\n",
    "    dprk = dprk + api.user_timeline('DPRK_News', count=200, max_id=max_id) \n",
    "    max_id = dprk[-1].id"
   ]
  },
  {
   "cell_type": "code",
   "execution_count": 42,
   "metadata": {},
   "outputs": [],
   "source": [
    "title=[]\n",
    "for i in range(len(snn)):\n",
    "    title.append(snn[i].text)"
   ]
  },
  {
   "cell_type": "code",
   "execution_count": 43,
   "metadata": {},
   "outputs": [],
   "source": [
    "dprk_df = pd.DataFrame(columns=['Title', 'Text', 'Author', 'Source', 'Label'])\n",
    "dprk_df.Title = title\n",
    "dprk_df.Label = 'Satirical'\n",
    "dprk_df.Author = 'DPRK'\n",
    "dprk_df.Source = 'Twitter'\n",
    "dprk_df.Text = np.nan"
   ]
  },
  {
   "cell_type": "code",
   "execution_count": 56,
   "metadata": {},
   "outputs": [
    {
     "data": {
      "text/html": [
       "<div>\n",
       "<style scoped>\n",
       "    .dataframe tbody tr th:only-of-type {\n",
       "        vertical-align: middle;\n",
       "    }\n",
       "\n",
       "    .dataframe tbody tr th {\n",
       "        vertical-align: top;\n",
       "    }\n",
       "\n",
       "    .dataframe thead th {\n",
       "        text-align: right;\n",
       "    }\n",
       "</style>\n",
       "<table border=\"1\" class=\"dataframe\">\n",
       "  <thead>\n",
       "    <tr style=\"text-align: right;\">\n",
       "      <th></th>\n",
       "      <th>Title</th>\n",
       "      <th>Text</th>\n",
       "      <th>Author</th>\n",
       "      <th>Source</th>\n",
       "      <th>Label</th>\n",
       "    </tr>\n",
       "  </thead>\n",
       "  <tbody>\n",
       "    <tr>\n",
       "      <th>0</th>\n",
       "      <td>@ezralevant @Gillette any thoughts on this tox...</td>\n",
       "      <td>NaN</td>\n",
       "      <td>DPRK</td>\n",
       "      <td>Twitter</td>\n",
       "      <td>Satirical</td>\n",
       "    </tr>\n",
       "    <tr>\n",
       "      <th>1</th>\n",
       "      <td>@TwitterMoments @BuzzFeedNews Nope, because it...</td>\n",
       "      <td>NaN</td>\n",
       "      <td>DPRK</td>\n",
       "      <td>Twitter</td>\n",
       "      <td>Satirical</td>\n",
       "    </tr>\n",
       "    <tr>\n",
       "      <th>2</th>\n",
       "      <td>@MajorCBS @realDonaldTrump Fake news</td>\n",
       "      <td>NaN</td>\n",
       "      <td>DPRK</td>\n",
       "      <td>Twitter</td>\n",
       "      <td>Satirical</td>\n",
       "    </tr>\n",
       "    <tr>\n",
       "      <th>3</th>\n",
       "      <td>@ChetPowell @realDonaldTrump @WhiteHouse Fake ...</td>\n",
       "      <td>NaN</td>\n",
       "      <td>DPRK</td>\n",
       "      <td>Twitter</td>\n",
       "      <td>Satirical</td>\n",
       "    </tr>\n",
       "    <tr>\n",
       "      <th>4</th>\n",
       "      <td>@BuzzFeedNews Fake news</td>\n",
       "      <td>NaN</td>\n",
       "      <td>DPRK</td>\n",
       "      <td>Twitter</td>\n",
       "      <td>Satirical</td>\n",
       "    </tr>\n",
       "  </tbody>\n",
       "</table>\n",
       "</div>"
      ],
      "text/plain": [
       "                                               Title  Text Author   Source  \\\n",
       "0  @ezralevant @Gillette any thoughts on this tox...   NaN   DPRK  Twitter   \n",
       "1  @TwitterMoments @BuzzFeedNews Nope, because it...   NaN   DPRK  Twitter   \n",
       "2               @MajorCBS @realDonaldTrump Fake news   NaN   DPRK  Twitter   \n",
       "3  @ChetPowell @realDonaldTrump @WhiteHouse Fake ...   NaN   DPRK  Twitter   \n",
       "4                            @BuzzFeedNews Fake news   NaN   DPRK  Twitter   \n",
       "\n",
       "       Label  \n",
       "0  Satirical  \n",
       "1  Satirical  \n",
       "2  Satirical  \n",
       "3  Satirical  \n",
       "4  Satirical  "
      ]
     },
     "execution_count": 56,
     "metadata": {},
     "output_type": "execute_result"
    }
   ],
   "source": [
    "dprk_df.head()"
   ]
  },
  {
   "cell_type": "code",
   "execution_count": 57,
   "metadata": {},
   "outputs": [
    {
     "name": "stderr",
     "output_type": "stream",
     "text": [
      "/anaconda3/lib/python3.7/site-packages/pandas/core/frame.py:6211: FutureWarning: Sorting because non-concatenation axis is not aligned. A future version\n",
      "of pandas will change to not sort by default.\n",
      "\n",
      "To accept the future behavior, pass 'sort=False'.\n",
      "\n",
      "To retain the current behavior and silence the warning, pass 'sort=True'.\n",
      "\n",
      "  sort=sort)\n"
     ]
    },
    {
     "data": {
      "text/html": [
       "<div>\n",
       "<style scoped>\n",
       "    .dataframe tbody tr th:only-of-type {\n",
       "        vertical-align: middle;\n",
       "    }\n",
       "\n",
       "    .dataframe tbody tr th {\n",
       "        vertical-align: top;\n",
       "    }\n",
       "\n",
       "    .dataframe thead th {\n",
       "        text-align: right;\n",
       "    }\n",
       "</style>\n",
       "<table border=\"1\" class=\"dataframe\">\n",
       "  <thead>\n",
       "    <tr style=\"text-align: right;\">\n",
       "      <th></th>\n",
       "      <th>Author</th>\n",
       "      <th>Label</th>\n",
       "      <th>Source</th>\n",
       "      <th>Text</th>\n",
       "      <th>Title</th>\n",
       "      <th>index</th>\n",
       "    </tr>\n",
       "  </thead>\n",
       "  <tbody>\n",
       "    <tr>\n",
       "      <th>154</th>\n",
       "      <td>DPRK</td>\n",
       "      <td>Satirical</td>\n",
       "      <td>Twitter</td>\n",
       "      <td>NaN</td>\n",
       "      <td>New Amazon BrainWave Automatically Orders What...</td>\n",
       "      <td>NaN</td>\n",
       "    </tr>\n",
       "    <tr>\n",
       "      <th>155</th>\n",
       "      <td>DPRK</td>\n",
       "      <td>Satirical</td>\n",
       "      <td>Twitter</td>\n",
       "      <td>NaN</td>\n",
       "      <td>New Amazon BrainWave Automatically Orders What...</td>\n",
       "      <td>NaN</td>\n",
       "    </tr>\n",
       "    <tr>\n",
       "      <th>156</th>\n",
       "      <td>DPRK</td>\n",
       "      <td>Satirical</td>\n",
       "      <td>Twitter</td>\n",
       "      <td>NaN</td>\n",
       "      <td>New Amazon BrainWave Automatically Orders What...</td>\n",
       "      <td>NaN</td>\n",
       "    </tr>\n",
       "    <tr>\n",
       "      <th>157</th>\n",
       "      <td>DPRK</td>\n",
       "      <td>Satirical</td>\n",
       "      <td>Twitter</td>\n",
       "      <td>NaN</td>\n",
       "      <td>New Amazon BrainWave Automatically Orders What...</td>\n",
       "      <td>NaN</td>\n",
       "    </tr>\n",
       "    <tr>\n",
       "      <th>158</th>\n",
       "      <td>DPRK</td>\n",
       "      <td>Satirical</td>\n",
       "      <td>Twitter</td>\n",
       "      <td>NaN</td>\n",
       "      <td>New Amazon BrainWave Automatically Orders What...</td>\n",
       "      <td>NaN</td>\n",
       "    </tr>\n",
       "  </tbody>\n",
       "</table>\n",
       "</div>"
      ],
      "text/plain": [
       "    Author      Label   Source  Text  \\\n",
       "154   DPRK  Satirical  Twitter   NaN   \n",
       "155   DPRK  Satirical  Twitter   NaN   \n",
       "156   DPRK  Satirical  Twitter   NaN   \n",
       "157   DPRK  Satirical  Twitter   NaN   \n",
       "158   DPRK  Satirical  Twitter   NaN   \n",
       "\n",
       "                                                 Title  index  \n",
       "154  New Amazon BrainWave Automatically Orders What...    NaN  \n",
       "155  New Amazon BrainWave Automatically Orders What...    NaN  \n",
       "156  New Amazon BrainWave Automatically Orders What...    NaN  \n",
       "157  New Amazon BrainWave Automatically Orders What...    NaN  \n",
       "158  New Amazon BrainWave Automatically Orders What...    NaN  "
      ]
     },
     "execution_count": 57,
     "metadata": {},
     "output_type": "execute_result"
    }
   ],
   "source": [
    "df = df.append(dprk_df)\n",
    "df.tail()"
   ]
  },
  {
   "cell_type": "code",
   "execution_count": 78,
   "metadata": {},
   "outputs": [
    {
     "data": {
      "text/html": [
       "<div>\n",
       "<style scoped>\n",
       "    .dataframe tbody tr th:only-of-type {\n",
       "        vertical-align: middle;\n",
       "    }\n",
       "\n",
       "    .dataframe tbody tr th {\n",
       "        vertical-align: top;\n",
       "    }\n",
       "\n",
       "    .dataframe thead th {\n",
       "        text-align: right;\n",
       "    }\n",
       "</style>\n",
       "<table border=\"1\" class=\"dataframe\">\n",
       "  <thead>\n",
       "    <tr style=\"text-align: right;\">\n",
       "      <th></th>\n",
       "      <th>Title</th>\n",
       "      <th>Text</th>\n",
       "      <th>Author</th>\n",
       "      <th>Source</th>\n",
       "      <th>Label</th>\n",
       "    </tr>\n",
       "  </thead>\n",
       "  <tbody>\n",
       "    <tr>\n",
       "      <th>6526</th>\n",
       "      <td>Lonely George W. Bush Still Holds Hands with S...</td>\n",
       "      <td>NaN</td>\n",
       "      <td>SatireNewsNet</td>\n",
       "      <td>Twitter</td>\n",
       "      <td>Satirical</td>\n",
       "    </tr>\n",
       "    <tr>\n",
       "      <th>6527</th>\n",
       "      <td>@Acosta Jim - you are proving that a wall work...</td>\n",
       "      <td>NaN</td>\n",
       "      <td>SatireNewsNet</td>\n",
       "      <td>Twitter</td>\n",
       "      <td>Satirical</td>\n",
       "    </tr>\n",
       "    <tr>\n",
       "      <th>6528</th>\n",
       "      <td>@jordanbpeterson Big fan Jordan. Everyone plea...</td>\n",
       "      <td>NaN</td>\n",
       "      <td>SatireNewsNet</td>\n",
       "      <td>Twitter</td>\n",
       "      <td>Satirical</td>\n",
       "    </tr>\n",
       "    <tr>\n",
       "      <th>6529</th>\n",
       "      <td>@PalmerReport @realDonaldTrump He has turned y...</td>\n",
       "      <td>NaN</td>\n",
       "      <td>SatireNewsNet</td>\n",
       "      <td>Twitter</td>\n",
       "      <td>Satirical</td>\n",
       "    </tr>\n",
       "    <tr>\n",
       "      <th>6530</th>\n",
       "      <td>@ezralevant @Gillette any thoughts on this tox...</td>\n",
       "      <td>NaN</td>\n",
       "      <td>SatireNewsNet</td>\n",
       "      <td>Twitter</td>\n",
       "      <td>Satirical</td>\n",
       "    </tr>\n",
       "  </tbody>\n",
       "</table>\n",
       "</div>"
      ],
      "text/plain": [
       "                                                  Title  Text         Author  \\\n",
       "6526  Lonely George W. Bush Still Holds Hands with S...   NaN  SatireNewsNet   \n",
       "6527  @Acosta Jim - you are proving that a wall work...   NaN  SatireNewsNet   \n",
       "6528  @jordanbpeterson Big fan Jordan. Everyone plea...   NaN  SatireNewsNet   \n",
       "6529  @PalmerReport @realDonaldTrump He has turned y...   NaN  SatireNewsNet   \n",
       "6530  @ezralevant @Gillette any thoughts on this tox...   NaN  SatireNewsNet   \n",
       "\n",
       "       Source      Label  \n",
       "6526  Twitter  Satirical  \n",
       "6527  Twitter  Satirical  \n",
       "6528  Twitter  Satirical  \n",
       "6529  Twitter  Satirical  \n",
       "6530  Twitter  Satirical  "
      ]
     },
     "execution_count": 78,
     "metadata": {},
     "output_type": "execute_result"
    }
   ],
   "source": [
    "df = df[['Title', 'Text', 'Author', 'Source', 'Label']]\n",
    "df.reset_index(drop=True, inplace=True)\n",
    "df.tail()"
   ]
  },
  {
   "cell_type": "code",
   "execution_count": 80,
   "metadata": {},
   "outputs": [],
   "source": [
    "df.to_csv('twitter.csv', index=False)"
   ]
  },
  {
   "cell_type": "code",
   "execution_count": null,
   "metadata": {},
   "outputs": [],
   "source": []
  }
 ],
 "metadata": {
  "kernelspec": {
   "display_name": "Python 3",
   "language": "python",
   "name": "python3"
  },
  "language_info": {
   "codemirror_mode": {
    "name": "ipython",
    "version": 3
   },
   "file_extension": ".py",
   "mimetype": "text/x-python",
   "name": "python",
   "nbconvert_exporter": "python",
   "pygments_lexer": "ipython3",
   "version": "3.7.0"
  }
 },
 "nbformat": 4,
 "nbformat_minor": 2
}
