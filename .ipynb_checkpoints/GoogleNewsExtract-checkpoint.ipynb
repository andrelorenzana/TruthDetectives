{
 "cells": [
  {
   "cell_type": "code",
   "execution_count": 4,
   "metadata": {},
   "outputs": [],
   "source": [
    "import pandas\n",
    "import requests"
   ]
  },
  {
   "cell_type": "code",
   "execution_count": 31,
   "metadata": {},
   "outputs": [],
   "source": [
    "api_key = '94f29862bf8140a9808e23ad2494fea9'\n",
    "'''\n",
    "endpoints:\n",
    "    everything\n",
    "    top-headlines\n",
    "    \n",
    "attributes:\n",
    "    sources&\n",
    "    from yyyy-mm-dd&\n",
    "    sortBy= (e.g. popularity)&\n",
    "    \n",
    "'''\n",
    "trusted_sources = ['bbc-news', 'the-washington-post', 'reuters', 'the-economist', 'the-guardian-au', 'the-guardian-uk', \n",
    "                   'cnn', 'the-new-york-times']\n",
    "df = {'source_id':[],'author':[],'title':[],'description':[], 'url':[], 'published_at':[],'content':[]}"
   ]
  },
  {
   "cell_type": "code",
   "execution_count": 27,
   "metadata": {},
   "outputs": [
    {
     "name": "stdout",
     "output_type": "stream",
     "text": [
      "{'status': 'ok', 'totalResults': 10, 'articles': [{'source': {'id': 'bbc-news', 'name': 'BBC News'}, 'author': 'BBC News', 'title': 'How will history judge President Trump?', 'description': 'With two years left to run of this history-defying presidency, Americans dential library be a landmark to US greatness or a modern-day American folly?', 'url': 'http://www.bbc.co.uk/news/world-us-canada-46895634', 'urlToImage': 'https://ichef.bbci.co.uk/news/1024/branded_news/17D60/production/_105223679_trumpandpresidents.jpg', 'publishedAt': '2019-01-17T21:43:20Z', 'content': \"Hostile historians may come to regard Donald Trump's two-year presidency as an aggregation of the lesser traits of his predecessors. The bullying of Lyndon Baines Johnson, who demeaned White House aides and even humiliated his Vice-President Hubert Humphrey -… [+17950 chars]\"}, {'source': {'id': 'bbc-news', 'name': 'BBC News'}, 'author': 'BBC News', 'title': \"Saturn's rings are 'very young'\", 'description': 'One of the most distinctive features in the Solar System is no more than 100 million years old.', 'url': 'http://www.bbc.co.uk/news/science-environment-46911945', 'urlToImage': 'https://ichef.bbci.co.uk/news/1024/branded_news/0C29/production/_92731130_whbranded_newsubject.jpg', 'publishedAt': '2019-01-17T20:30:59Z', 'content': \"Image copyright Cassini Imaging Team/SSI/JPL/ESA/NASA Image caption The end phases of the mission should yield new information about Saturn's interior We're looking at Saturn at a very special time in the history of the Solar System, according to scientists. … [+4767 chars]\"}, {'source': {'id': 'bbc-news', 'name': 'BBC News'}, 'author': 'BBC News', 'title': 'New border migrant separations revealed', 'description': 'The full scope of family separations at the border may be bigger than believed, a federal report finds.', 'url': 'http://www.bbc.co.uk/news/world-us-canada-46912915', 'urlToImage': 'https://ichef.bbci.co.uk/news/1024/branded_news/179AA/production/_105228669_gettyimages-980576630.jpg', 'publishedAt': '2019-01-17T19:47:37Z', 'content': 'Image copyright Getty Images Image caption Migrants walk towards El Chaparral port of entry in Tijuana, Mexico, in the border with the US Thousands more migrant children may have been separated from their families at the southern border than previously though… [+2092 chars]'}, {'source': {'id': 'bbc-news', 'name': 'BBC News'}, 'author': 'BBC News', 'title': 'Trump cancels Pelosi trip over shutdown', 'description': 'The Speaker of the House earlier called on Mr Trump to postpone his State of the Union address.', 'url': 'http://www.bbc.co.uk/news/world-us-canada-46911478', 'urlToImage': 'https://ichef.bbci.co.uk/news/1024/branded_news/1034E/production/_105228366_compopelosi.jpg', 'publishedAt': '2019-01-17T19:31:32Z', 'content': \"Image copyright Reuters/AFP Image caption Mr Trump has postponed Ms Pelosi's trip a day after she called on him to postpone his address to Congress US President Donald Trump has postponed House Speaker Nancy Pelosi's upcoming trip to Brussels, Afghanistan and… [+1322 chars]\"}, {'source': {'id': 'bbc-news', 'name': 'BBC News'}, 'author': 'BBC News', 'title': 'Why the Khashoggi crisis is far from over', 'description': \"Five key takeaways from the US secretary of state's breakneck tour of the Middle East.\", 'url': 'http://www.bbc.co.uk/news/world-us-canada-46908510', 'urlToImage': 'https://ichef.bbci.co.uk/news/1024/branded_news/C76C/production/_105225015_gettyimages-1082171848.jpg', 'publishedAt': '2019-01-17T19:27:06Z', 'content': \"Image copyright ANDREW CABALLERO-REYNOLDS via Getty Images Image caption Secretary of State Mike Pompeo meets Saudi Crown Prince Mohammed Bin Salman in Riyadh The US secretary of state's seven-day tour of the Middle East was an effort to reassure Washington's… [+9874 chars]\"}, {'source': {'id': 'bbc-news', 'name': 'BBC News'}, 'author': 'BBC News', 'title': 'Prince Philip unhurt after car crash - palace', 'description': 'The Duke of Edinburgh has been involved in car crash but was not injured, Buckingham Palace says.', 'url': 'http://www.bbc.co.uk/news/uk-46912691', 'urlToImage': 'https://ichef.bbci.co.uk/news/1024/branded_news/7A1E/production/_105226213_hi047716560.jpg', 'publishedAt': '2019-01-17T18:04:26Z', 'content': \"Image copyright PA The Duke of Edinburgh has been involved in a car crash, Buckingham Palace has said. Prince Philip, 97, was not injured in the accident, which happened close to the Queen's Sandringham estate in Norfolk on Thursday. Buckingham Palace said th… [+1015 chars]\"}, {'source': {'id': 'bbc-news', 'name': 'BBC News'}, 'author': 'BBC News', 'title': 'Baby found dead in Amazon warehouse toilet', 'description': 'The baby girl was reportedly found in a rubbish bin of a toilet in the secure Amazon facility.', 'url': 'http://www.bbc.co.uk/news/world-us-canada-46898150', 'urlToImage': 'https://ichef.bbci.co.uk/news/1024/branded_news/15092/production/_105226168_261a29ba-f19f-41ae-ac7c-27fc3e7c3f4a.jpg', 'publishedAt': '2019-01-17T17:04:20Z', 'content': \"Image copyright CBS Image caption The dead infant was found at one of Amazon's several locations in Phoenix Police are investigating the death of a baby girl who was found in the restroom of an Amazon warehouse in the US state of Arizona. Phoenix police spoke… [+1287 chars]\"}, {'source': {'id': 'bbc-news', 'name': 'BBC News'}, 'author': 'BBC News', 'title': 'Divers take plunge with great white shark', 'description': 'The shark, believed to be one known as Deep Blue, weighs 2.5 tonnes and is nearly 20ft long.', 'url': 'http://www.bbc.co.uk/news/world-us-canada-46909353', 'urlToImage': 'https://ichef.bbci.co.uk/news/1024/branded_news/8180/production/_105225133_051701037.jpg', 'publishedAt': '2019-01-17T16:40:58Z', 'content': 'Image copyright Reuters A team of divers has had a close encounter with one of the biggest great white sharks on record - and lived to tell the tale. Some of the divers came so close to the female shark in the waters off Hawaii that they were able to touch it… [+1296 chars]'}, {'source': {'id': 'bbc-news', 'name': 'BBC News'}, 'author': 'BBC News', 'title': \"Kim's right-hand man 'carrying Trump note'\", 'description': 'North Korean negotiator Kim Yong-chol is on his way to the US ahead of another possible Trump-Kim summit.', 'url': 'http://www.bbc.co.uk/news/world-asia-46901250', 'urlToImage': 'https://ichef.bbci.co.uk/news/1024/branded_news/E151/production/_105218675_d0f9f8ee-8925-4c02-b265-a1f9fa40d7f2.jpg', 'publishedAt': '2019-01-17T14:35:53Z', 'content': \"Image copyright Reuters Image caption Kim Yong-chol was seen in Beijing before he departed for Washington One of North Korea's top negotiators is on his way to Washington to meet US officials ahead of a possible second summit between Kim Jong-un and US Presid… [+2453 chars]\"}, {'source': {'id': 'bbc-news', 'name': 'BBC News'}, 'author': 'BBC News', 'title': 'Nursing mother smashes 268-mile race record', 'description': 'Jasmin Paris expressed milk for her 14-month-old daughter during the gruelling Montane Spine Race.', 'url': 'http://www.bbc.co.uk/news/uk-scotland-edinburgh-east-fife-46906365', 'urlToImage': 'https://ichef.bbci.co.uk/news/1024/branded_news/BFD8/production/_105221194_breast.jpg', 'publishedAt': '2019-01-17T13:08:33Z', 'content': \"Image copyright Jen O'Neill Image caption Jasmin Paris pumping breast milk at checkpoint one A Midlothian mother who expressed milk for her baby during a 268-mile race along the Pennine Way has broken the course record by more than 12 hours. Jasmin Paris, 35,… [+5230 chars]\"}]}\n"
     ]
    }
   ],
   "source": [
    "\n",
    "for source in trusted_sources:\n",
    "    url = ('https://newsapi.org/v2/everything?'\n",
    "       f'sources={source}&'\n",
    "       'sortBy=popularity&'\n",
    "       f'apiKey={api_key}')\n",
    "    response = requests.get(url)\n",
    "    \n",
    "    for entry in response.json()['articles']:\n",
    "        df['source_id'].append(entry['source']['id'])\n",
    "        df['source_name'].append(entry['source']['name'])\n",
    "        df['author'].append(entry['author'])\n",
    "        df['title'].append(entry['title'])\n",
    "        df['description'].append(entry['description'])\n",
    "        df['url'].append(entry['url'])\n",
    "        df['published_at'].append(entry['publishedAt'])\n",
    "        df['content'].append(entry['content'])\n"
   ]
  },
  {
   "cell_type": "code",
   "execution_count": 21,
   "metadata": {},
   "outputs": [
    {
     "data": {
      "text/plain": [
       "'error'"
      ]
     },
     "execution_count": 21,
     "metadata": {},
     "output_type": "execute_result"
    }
   ],
   "source": [
    "response.json()['status']"
   ]
  },
  {
   "cell_type": "code",
   "execution_count": null,
   "metadata": {},
   "outputs": [],
   "source": []
  }
 ],
 "metadata": {
  "kernelspec": {
   "display_name": "Python 3",
   "language": "python",
   "name": "python3"
  },
  "language_info": {
   "codemirror_mode": {
    "name": "ipython",
    "version": 3
   },
   "file_extension": ".py",
   "mimetype": "text/x-python",
   "name": "python",
   "nbconvert_exporter": "python",
   "pygments_lexer": "ipython3",
   "version": "3.6.5"
  }
 },
 "nbformat": 4,
 "nbformat_minor": 2
}
